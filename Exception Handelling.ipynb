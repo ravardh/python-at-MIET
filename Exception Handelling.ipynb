{
 "cells": [
  {
   "cell_type": "code",
   "execution_count": 2,
   "id": "e62d4c93-3cb2-47d8-8021-2ad2fe3cd7c2",
   "metadata": {},
   "outputs": [
    {
     "data": {
      "text/plain": [
       "4"
      ]
     },
     "execution_count": 2,
     "metadata": {},
     "output_type": "execute_result"
    }
   ],
   "source": [
    "L= [1,2,3,4,5]\n",
    "\n",
    "L[3]"
   ]
  },
  {
   "cell_type": "code",
   "execution_count": 6,
   "id": "758a3811-7869-4c4b-adea-9dbc81a50577",
   "metadata": {},
   "outputs": [
    {
     "name": "stdout",
     "output_type": "stream",
     "text": [
      "Hello world\n",
      "4\n",
      "5\n",
      "end of code\n"
     ]
    }
   ],
   "source": [
    "print(\"Hello world\")\n",
    "\n",
    "L\n",
    "\n",
    "print(L[3])\n",
    "try:\n",
    "    print(L[4])\n",
    "except:\n",
    "    print(\"invalid index\")\n",
    "\n",
    "print(\"end of code\")"
   ]
  },
  {
   "cell_type": "code",
   "execution_count": 12,
   "id": "0e6271fe-6c7d-4c2a-822f-da99c81da84a",
   "metadata": {},
   "outputs": [
    {
     "name": "stdout",
     "output_type": "stream",
     "text": [
      "2.0\n",
      "Code executed Sucessfully\n"
     ]
    },
    {
     "ename": "IndexError",
     "evalue": "list index out of range",
     "output_type": "error",
     "traceback": [
      "\u001b[1;31m---------------------------------------------------------------------------\u001b[0m",
      "\u001b[1;31mIndexError\u001b[0m                                Traceback (most recent call last)",
      "Cell \u001b[1;32mIn[12], line 6\u001b[0m\n\u001b[0;32m      4\u001b[0m \u001b[38;5;28;01mtry\u001b[39;00m : \n\u001b[0;32m      5\u001b[0m     \u001b[38;5;28mprint\u001b[39m(a\u001b[38;5;241m/\u001b[39mb)\n\u001b[1;32m----> 6\u001b[0m     \u001b[43mL\u001b[49m\u001b[43m[\u001b[49m\u001b[38;5;241;43m8\u001b[39;49m\u001b[43m]\u001b[49m\n\u001b[0;32m      7\u001b[0m \u001b[38;5;28;01mexcept\u001b[39;00m \u001b[38;5;167;01mZeroDivisionError\u001b[39;00m: \n\u001b[0;32m      8\u001b[0m     \u001b[38;5;28mprint\u001b[39m(\u001b[38;5;124m\"\u001b[39m\u001b[38;5;124mB can\u001b[39m\u001b[38;5;124m'\u001b[39m\u001b[38;5;124mt be Zero\u001b[39m\u001b[38;5;124m\"\u001b[39m)\n",
      "\u001b[1;31mIndexError\u001b[0m: list index out of range"
     ]
    }
   ],
   "source": [
    "a=10\n",
    "b=5\n",
    "\n",
    "try : \n",
    "    print(a/b)\n",
    "    L[8]\n",
    "except ZeroDivisionError: \n",
    "    print(\"B can't be Zero\")\n",
    "finally:\n",
    "    print(\"Code executed Sucessfully\")"
   ]
  },
  {
   "cell_type": "code",
   "execution_count": 13,
   "id": "6229933b-75c8-41b9-ba24-ffa9f90454fa",
   "metadata": {},
   "outputs": [
    {
     "name": "stdout",
     "output_type": "stream",
     "text": [
      "2.0\n",
      "B can't be Zero\n",
      "Code executed Sucessfully\n"
     ]
    }
   ],
   "source": [
    "a=10\n",
    "b=5\n",
    "\n",
    "try : \n",
    "    print(a/b)\n",
    "    l[8]\n",
    "except: \n",
    "    print(\"B can't be Zero\")\n",
    "finally:\n",
    "    print(\"Code executed Sucessfully\")"
   ]
  },
  {
   "cell_type": "code",
   "execution_count": 16,
   "id": "b94a1f2a-e76b-4fa6-966a-1bfef386fd1b",
   "metadata": {},
   "outputs": [
    {
     "name": "stdout",
     "output_type": "stream",
     "text": [
      "B can't be Zero\n",
      "Code executed Sucessfully\n"
     ]
    }
   ],
   "source": [
    "a=10\n",
    "b=0\n",
    "\n",
    "try : \n",
    "    print(a/b)\n",
    "    L[8]\n",
    "except ZeroDivisionError: \n",
    "    print(\"B can't be Zero\")\n",
    "except NameError: \n",
    "    print(\"Incorrect Identifier\")\n",
    "except IndexError: \n",
    "    print(\"Trying to fetch the non existing data\")\n",
    "finally:\n",
    "    print(\"Code executed Sucessfully\")"
   ]
  },
  {
   "cell_type": "code",
   "execution_count": 18,
   "id": "6f0ac3ea-afa0-4d50-b3ff-6f0f4ace592b",
   "metadata": {},
   "outputs": [
    {
     "name": "stdout",
     "output_type": "stream",
     "text": [
      "2.0\n",
      "list index out of range\n",
      "Code executed Sucessfully\n"
     ]
    }
   ],
   "source": [
    "a=10\n",
    "b=5\n",
    "\n",
    "try : \n",
    "    print(a/b)\n",
    "    L[8]\n",
    "except Exception as e: \n",
    "    print(e)\n",
    "finally:\n",
    "    print(\"Code executed Sucessfully\")"
   ]
  },
  {
   "cell_type": "code",
   "execution_count": null,
   "id": "d897f4ef-2625-49fb-8f0a-2349c0b64afc",
   "metadata": {},
   "outputs": [],
   "source": []
  }
 ],
 "metadata": {
  "kernelspec": {
   "display_name": "Python 3 (ipykernel)",
   "language": "python",
   "name": "python3"
  },
  "language_info": {
   "codemirror_mode": {
    "name": "ipython",
    "version": 3
   },
   "file_extension": ".py",
   "mimetype": "text/x-python",
   "name": "python",
   "nbconvert_exporter": "python",
   "pygments_lexer": "ipython3",
   "version": "3.12.3"
  }
 },
 "nbformat": 4,
 "nbformat_minor": 5
}
