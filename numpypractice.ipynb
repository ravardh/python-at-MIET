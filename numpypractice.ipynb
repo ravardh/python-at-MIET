{
 "cells": [
  {
   "cell_type": "code",
   "execution_count": 1,
   "id": "a84e8deb-2a13-4cc8-b494-df06b513e466",
   "metadata": {},
   "outputs": [],
   "source": [
    "import numpy as np"
   ]
  },
  {
   "cell_type": "code",
   "execution_count": 2,
   "id": "0c1ffeb6-2f8a-451a-a9fe-457f3f788063",
   "metadata": {},
   "outputs": [],
   "source": [
    "arr = np.array([1,2,3,4,5])"
   ]
  },
  {
   "cell_type": "code",
   "execution_count": 3,
   "id": "a2a3eb12-b7bd-4553-9c27-ec5ef5018ccd",
   "metadata": {},
   "outputs": [
    {
     "data": {
      "text/plain": [
       "array([1, 2, 3, 4, 5])"
      ]
     },
     "execution_count": 3,
     "metadata": {},
     "output_type": "execute_result"
    }
   ],
   "source": [
    "arr"
   ]
  },
  {
   "cell_type": "code",
   "execution_count": 4,
   "id": "918db64c-02cf-4187-84c6-f2e3dbec5c46",
   "metadata": {},
   "outputs": [
    {
     "name": "stdout",
     "output_type": "stream",
     "text": [
      "int32\n"
     ]
    }
   ],
   "source": [
    "print(arr.dtype)"
   ]
  },
  {
   "cell_type": "code",
   "execution_count": 5,
   "id": "6822dcd7-90a9-487c-86ac-13258a922021",
   "metadata": {},
   "outputs": [],
   "source": [
    "arr2 = np.array([1,2,3,4,5],dtype=np.int16)"
   ]
  },
  {
   "cell_type": "code",
   "execution_count": 6,
   "id": "e57b18fe-06fd-4f43-97ea-6b8334718570",
   "metadata": {},
   "outputs": [
    {
     "data": {
      "text/plain": [
       "array([1, 2, 3, 4, 5], dtype=int16)"
      ]
     },
     "execution_count": 6,
     "metadata": {},
     "output_type": "execute_result"
    }
   ],
   "source": [
    "arr2"
   ]
  },
  {
   "cell_type": "markdown",
   "id": "c8ff9b19-60cf-483d-8631-d84b6deb99eb",
   "metadata": {},
   "source": [
    "Zero\n",
    "ones\n",
    "arange\n",
    "random.rand\n",
    "linspace"
   ]
  },
  {
   "cell_type": "code",
   "execution_count": 7,
   "id": "cd0ba0d6-c566-4d3d-b1de-a51c601bbb14",
   "metadata": {},
   "outputs": [],
   "source": [
    "Z=np.zeros(5)"
   ]
  },
  {
   "cell_type": "code",
   "execution_count": 8,
   "id": "75b45b18-df4f-44ed-8b50-168a92586c55",
   "metadata": {},
   "outputs": [
    {
     "data": {
      "text/plain": [
       "array([0., 0., 0., 0., 0.])"
      ]
     },
     "execution_count": 8,
     "metadata": {},
     "output_type": "execute_result"
    }
   ],
   "source": [
    "Z"
   ]
  },
  {
   "cell_type": "code",
   "execution_count": 9,
   "id": "fee0084c-0afa-4e65-a89e-0f1d0079660f",
   "metadata": {},
   "outputs": [],
   "source": [
    "ar=np.arange(0,10,1)"
   ]
  },
  {
   "cell_type": "code",
   "execution_count": 10,
   "id": "346c56a6-f6e9-4952-b2d4-25e35cab6b90",
   "metadata": {},
   "outputs": [
    {
     "data": {
      "text/plain": [
       "array([0, 1, 2, 3, 4, 5, 6, 7, 8, 9])"
      ]
     },
     "execution_count": 10,
     "metadata": {},
     "output_type": "execute_result"
    }
   ],
   "source": [
    "ar"
   ]
  },
  {
   "cell_type": "code",
   "execution_count": 11,
   "id": "cdc67410-9617-486d-8bd3-eb4d6eefbf81",
   "metadata": {},
   "outputs": [],
   "source": [
    "ran=np.random.rand(4)"
   ]
  },
  {
   "cell_type": "code",
   "execution_count": 12,
   "id": "712b0dd6-09f3-4f8a-93b7-1b2fc99c6eba",
   "metadata": {},
   "outputs": [
    {
     "data": {
      "text/plain": [
       "array([0.77158325, 0.11108673, 0.65546282, 0.01991779])"
      ]
     },
     "execution_count": 12,
     "metadata": {},
     "output_type": "execute_result"
    }
   ],
   "source": [
    "ran"
   ]
  },
  {
   "cell_type": "code",
   "execution_count": 13,
   "id": "25c5b2f2-4b4e-43f5-9e65-1577af2cf0ce",
   "metadata": {},
   "outputs": [
    {
     "data": {
      "text/plain": [
       "array([  0.        ,  11.11111111,  22.22222222,  33.33333333,\n",
       "        44.44444444,  55.55555556,  66.66666667,  77.77777778,\n",
       "        88.88888889, 100.        ])"
      ]
     },
     "execution_count": 13,
     "metadata": {},
     "output_type": "execute_result"
    }
   ],
   "source": [
    "ln=np.linspace(0,100,10)\n",
    "ln"
   ]
  },
  {
   "cell_type": "markdown",
   "id": "f5847057-0a39-44e7-89ed-5f0174fb4df3",
   "metadata": {},
   "source": [
    "**2D Arrays**"
   ]
  },
  {
   "cell_type": "code",
   "execution_count": 14,
   "id": "4dee6ad5-1df6-4f9a-a97a-2e36b5b9ccc5",
   "metadata": {},
   "outputs": [],
   "source": [
    "ar2=np.array([[1,2,3],[4,5,6],[7,8,9]])"
   ]
  },
  {
   "cell_type": "code",
   "execution_count": 15,
   "id": "0d6a6637-810b-4f01-a3d4-63684359a434",
   "metadata": {},
   "outputs": [
    {
     "data": {
      "text/plain": [
       "array([[1, 2, 3],\n",
       "       [4, 5, 6],\n",
       "       [7, 8, 9]])"
      ]
     },
     "execution_count": 15,
     "metadata": {},
     "output_type": "execute_result"
    }
   ],
   "source": [
    "ar2"
   ]
  },
  {
   "cell_type": "code",
   "execution_count": 16,
   "id": "0672ed58-961c-48fe-a3d9-99d1d2783e0e",
   "metadata": {},
   "outputs": [
    {
     "data": {
      "text/plain": [
       "array([[0., 0., 0., 0., 0.],\n",
       "       [0., 0., 0., 0., 0.],\n",
       "       [0., 0., 0., 0., 0.],\n",
       "       [0., 0., 0., 0., 0.],\n",
       "       [0., 0., 0., 0., 0.]])"
      ]
     },
     "execution_count": 16,
     "metadata": {},
     "output_type": "execute_result"
    }
   ],
   "source": [
    "z1=np.zeros([5,5])\n",
    "z1"
   ]
  },
  {
   "cell_type": "code",
   "execution_count": 17,
   "id": "69a15b4d-1bd5-4b63-a55a-3b18d649f667",
   "metadata": {},
   "outputs": [
    {
     "data": {
      "text/plain": [
       "array([[1., 1., 1., 1., 1.],\n",
       "       [1., 1., 1., 1., 1.],\n",
       "       [1., 1., 1., 1., 1.],\n",
       "       [1., 1., 1., 1., 1.],\n",
       "       [1., 1., 1., 1., 1.]])"
      ]
     },
     "execution_count": 17,
     "metadata": {},
     "output_type": "execute_result"
    }
   ],
   "source": [
    "o1=np.ones([5,5])\n",
    "o1"
   ]
  },
  {
   "cell_type": "code",
   "execution_count": 18,
   "id": "6a490661-0504-478c-832e-d7e7a89a67b5",
   "metadata": {},
   "outputs": [],
   "source": [
    "I=np.eye(5)"
   ]
  },
  {
   "cell_type": "code",
   "execution_count": 19,
   "id": "71c7cb39-533d-4f51-994d-45b6a9be6fd4",
   "metadata": {},
   "outputs": [
    {
     "data": {
      "text/plain": [
       "array([[1., 0., 0., 0., 0.],\n",
       "       [0., 1., 0., 0., 0.],\n",
       "       [0., 0., 1., 0., 0.],\n",
       "       [0., 0., 0., 1., 0.],\n",
       "       [0., 0., 0., 0., 1.]])"
      ]
     },
     "execution_count": 19,
     "metadata": {},
     "output_type": "execute_result"
    }
   ],
   "source": [
    "I"
   ]
  },
  {
   "cell_type": "code",
   "execution_count": 20,
   "id": "91ce0d0a-9ed9-4de6-a7ae-afac398891fb",
   "metadata": {},
   "outputs": [
    {
     "data": {
      "text/plain": [
       "array([[0.57025106, 0.94058897, 0.32377309, 0.66381934, 0.81682105],\n",
       "       [0.852402  , 0.6072865 , 0.94923214, 0.69207964, 0.55668721],\n",
       "       [0.15657823, 0.49632849, 0.2143103 , 0.00120329, 0.03542647],\n",
       "       [0.61394893, 0.67357198, 0.30864712, 0.55587552, 0.09939081]])"
      ]
     },
     "execution_count": 20,
     "metadata": {},
     "output_type": "execute_result"
    }
   ],
   "source": [
    "r1=np.random.rand(4,5)\n",
    "r1"
   ]
  },
  {
   "cell_type": "code",
   "execution_count": 21,
   "id": "2514128c-f757-40a8-b9d1-091aff2fb251",
   "metadata": {},
   "outputs": [
    {
     "data": {
      "text/plain": [
       "array([[1, 2, 3],\n",
       "       [4, 5, 6],\n",
       "       [7, 8, 9]])"
      ]
     },
     "execution_count": 21,
     "metadata": {},
     "output_type": "execute_result"
    }
   ],
   "source": [
    "ar\n",
    "ar2"
   ]
  },
  {
   "cell_type": "code",
   "execution_count": 22,
   "id": "31b0a240-5507-42e9-86de-0c5c0ac2695d",
   "metadata": {},
   "outputs": [
    {
     "data": {
      "text/plain": [
       "array([0, 1, 2, 3, 4, 5, 6, 7, 8, 9])"
      ]
     },
     "execution_count": 22,
     "metadata": {},
     "output_type": "execute_result"
    }
   ],
   "source": [
    "ar"
   ]
  },
  {
   "cell_type": "code",
   "execution_count": 23,
   "id": "638a372a-bb59-42ef-8177-f7bf23b4a279",
   "metadata": {},
   "outputs": [
    {
     "data": {
      "text/plain": [
       "array([[1, 2, 3],\n",
       "       [4, 5, 6],\n",
       "       [7, 8, 9]])"
      ]
     },
     "execution_count": 23,
     "metadata": {},
     "output_type": "execute_result"
    }
   ],
   "source": [
    "ar2"
   ]
  },
  {
   "cell_type": "code",
   "execution_count": 26,
   "id": "bd82888c-cd37-4de1-b38f-672d4d532c03",
   "metadata": {},
   "outputs": [
    {
     "name": "stdout",
     "output_type": "stream",
     "text": [
      "10\n"
     ]
    }
   ],
   "source": [
    "print(ar.size)"
   ]
  },
  {
   "cell_type": "code",
   "execution_count": 27,
   "id": "0578eeb7-f84e-4e2a-a070-712eb85079af",
   "metadata": {},
   "outputs": [
    {
     "name": "stdout",
     "output_type": "stream",
     "text": [
      "9\n"
     ]
    }
   ],
   "source": [
    "print(ar2.size)"
   ]
  },
  {
   "cell_type": "code",
   "execution_count": 29,
   "id": "94c014c7-49b4-4b7d-9753-393791ca2c74",
   "metadata": {},
   "outputs": [
    {
     "name": "stdout",
     "output_type": "stream",
     "text": [
      "(10,)\n"
     ]
    }
   ],
   "source": [
    "print(ar.shape)"
   ]
  },
  {
   "cell_type": "code",
   "execution_count": 30,
   "id": "341177d0-e56e-46d0-840d-c6c47f144ddb",
   "metadata": {},
   "outputs": [
    {
     "name": "stdout",
     "output_type": "stream",
     "text": [
      "(3, 3)\n"
     ]
    }
   ],
   "source": [
    "print(ar2.shape)"
   ]
  },
  {
   "cell_type": "markdown",
   "id": "54bad8ee-5708-41cc-8cd6-a79f620b292a",
   "metadata": {},
   "source": [
    "# Operations in Array\n",
    "\n",
    "**Copy**\n",
    "\n",
    "**Sort**\n",
    "\n",
    "**Reshape**"
   ]
  },
  {
   "cell_type": "code",
   "execution_count": 31,
   "id": "895987fd-2479-4e77-b7cd-ad8b0959fbd9",
   "metadata": {},
   "outputs": [
    {
     "data": {
      "text/plain": [
       "array([[1, 2, 3],\n",
       "       [4, 5, 6],\n",
       "       [7, 8, 9]])"
      ]
     },
     "execution_count": 31,
     "metadata": {},
     "output_type": "execute_result"
    }
   ],
   "source": [
    "ar3=np.copy(ar2)\n",
    "ar3"
   ]
  },
  {
   "cell_type": "code",
   "execution_count": 32,
   "id": "cd6a98e4-39cf-4f46-9568-81df77fa232a",
   "metadata": {},
   "outputs": [],
   "source": [
    "ar3[2,2]=10"
   ]
  },
  {
   "cell_type": "code",
   "execution_count": 33,
   "id": "4639d62b-3505-40fc-aeb0-75c37f153570",
   "metadata": {},
   "outputs": [
    {
     "data": {
      "text/plain": [
       "array([[ 1,  2,  3],\n",
       "       [ 4,  5,  6],\n",
       "       [ 7,  8, 10]])"
      ]
     },
     "execution_count": 33,
     "metadata": {},
     "output_type": "execute_result"
    }
   ],
   "source": [
    "ar3"
   ]
  },
  {
   "cell_type": "code",
   "execution_count": 34,
   "id": "7a2e3008-e209-4a3f-8c07-67e6b5800dab",
   "metadata": {},
   "outputs": [],
   "source": [
    "ar3[1,2]=12\n",
    "ar3[0,1]=15"
   ]
  },
  {
   "cell_type": "code",
   "execution_count": 35,
   "id": "3f3cecbb-c2d9-45d2-a0c9-605dc33b728c",
   "metadata": {},
   "outputs": [
    {
     "data": {
      "text/plain": [
       "array([[ 1, 15,  3],\n",
       "       [ 4,  5, 12],\n",
       "       [ 7,  8, 10]])"
      ]
     },
     "execution_count": 35,
     "metadata": {},
     "output_type": "execute_result"
    }
   ],
   "source": [
    "ar3"
   ]
  },
  {
   "cell_type": "code",
   "execution_count": 36,
   "id": "aa3a03c3-a30a-4aba-8d5c-130e57c88606",
   "metadata": {},
   "outputs": [
    {
     "data": {
      "text/plain": [
       "array([[ 1,  3, 15],\n",
       "       [ 4,  5, 12],\n",
       "       [ 7,  8, 10]])"
      ]
     },
     "execution_count": 36,
     "metadata": {},
     "output_type": "execute_result"
    }
   ],
   "source": [
    "ar3=np.sort(ar3)\n",
    "ar3"
   ]
  },
  {
   "cell_type": "code",
   "execution_count": 38,
   "id": "616c7c94-8ac6-4d78-b62f-6e76eb7792b9",
   "metadata": {},
   "outputs": [],
   "source": [
    "ar3=np.sort(ar3,axis=0)"
   ]
  },
  {
   "cell_type": "code",
   "execution_count": 39,
   "id": "e8b005fe-4f7b-4ca5-9795-9c14e254bd68",
   "metadata": {},
   "outputs": [
    {
     "data": {
      "text/plain": [
       "array([[ 1,  3, 10],\n",
       "       [ 4,  5, 12],\n",
       "       [ 7,  8, 15]])"
      ]
     },
     "execution_count": 39,
     "metadata": {},
     "output_type": "execute_result"
    }
   ],
   "source": [
    "ar3"
   ]
  },
  {
   "cell_type": "code",
   "execution_count": 40,
   "id": "9716047a-f0fd-4633-b9cf-46f19212c4a5",
   "metadata": {},
   "outputs": [
    {
     "data": {
      "text/plain": [
       "65"
      ]
     },
     "execution_count": 40,
     "metadata": {},
     "output_type": "execute_result"
    }
   ],
   "source": [
    "ar3.sum()"
   ]
  },
  {
   "cell_type": "code",
   "execution_count": 41,
   "id": "8105cabb-74ff-45a3-b91e-c8480eaf94d2",
   "metadata": {},
   "outputs": [
    {
     "data": {
      "text/plain": [
       "array([12, 16, 37])"
      ]
     },
     "execution_count": 41,
     "metadata": {},
     "output_type": "execute_result"
    }
   ],
   "source": [
    "ar3.sum(axis=0)"
   ]
  },
  {
   "cell_type": "code",
   "execution_count": 42,
   "id": "7a810d51-1684-42cb-b6f4-20823bd11153",
   "metadata": {},
   "outputs": [
    {
     "data": {
      "text/plain": [
       "array([14, 21, 30])"
      ]
     },
     "execution_count": 42,
     "metadata": {},
     "output_type": "execute_result"
    }
   ],
   "source": [
    "ar3.sum(axis=1)"
   ]
  },
  {
   "cell_type": "code",
   "execution_count": 43,
   "id": "a590eb79-0155-4c5f-b531-aa9a38375b66",
   "metadata": {},
   "outputs": [
    {
     "data": {
      "text/plain": [
       "array([6.04926019e-02, 7.46509279e-01, 6.37402282e-01, 9.47826643e-01,\n",
       "       2.84805480e-01, 8.03114767e-01, 4.03459830e-01, 6.64394174e-01,\n",
       "       5.75418471e-01, 5.61630547e-01, 6.27553097e-01, 1.40058275e-01,\n",
       "       1.18791815e-01, 6.28978854e-01, 5.14224117e-01, 8.66731631e-01,\n",
       "       2.78533441e-01, 2.38486241e-01, 4.76975766e-01, 5.46476756e-01,\n",
       "       6.00040253e-01, 1.94672171e-01, 8.33819621e-02, 7.30518375e-01,\n",
       "       5.36178258e-02, 7.36458430e-01, 8.81244173e-04, 9.15914539e-01,\n",
       "       9.63864205e-01, 4.28544035e-02, 6.89991144e-01, 6.49825840e-01,\n",
       "       9.37453621e-01, 2.03422365e-01, 2.92685528e-01, 8.88963768e-01,\n",
       "       8.97765325e-01, 2.63395491e-01, 1.52360571e-01, 1.13076362e-01,\n",
       "       7.55612267e-01, 7.71777772e-01, 5.58288112e-02, 7.29682680e-01,\n",
       "       5.23012815e-01, 2.70826115e-01, 6.21738470e-01, 8.20949743e-01,\n",
       "       3.69880809e-01, 2.45015587e-01, 6.79636962e-01, 4.36650383e-01,\n",
       "       7.09943190e-02, 8.14112960e-01, 8.49634808e-01, 7.18205416e-01,\n",
       "       1.21371627e-01, 7.49936919e-01, 4.70087638e-01, 2.80963152e-01,\n",
       "       5.86922440e-01, 7.44410368e-01, 3.66104969e-02, 7.37430364e-01,\n",
       "       4.90161422e-01, 3.67808665e-01, 4.45378734e-01, 6.80701947e-01,\n",
       "       7.15436619e-01, 1.05693087e-01, 5.33657811e-01, 5.66869366e-01,\n",
       "       3.75781954e-01, 3.26102492e-01, 1.73424858e-01, 8.25675791e-01,\n",
       "       1.01708049e-01, 6.58017619e-01, 6.51982166e-01, 6.97535938e-01,\n",
       "       5.05388036e-01, 7.75368597e-01, 4.77851747e-01, 7.03196843e-01,\n",
       "       7.59054471e-01, 4.86377438e-01, 2.46373192e-02, 2.05210035e-01,\n",
       "       7.78831175e-01, 3.82150076e-03, 3.15526283e-01, 5.70630656e-01,\n",
       "       2.39232335e-01, 8.63960133e-01, 1.46200065e-03, 2.91802636e-01,\n",
       "       7.82634633e-01, 4.36036688e-01, 7.86085935e-01])"
      ]
     },
     "execution_count": 43,
     "metadata": {},
     "output_type": "execute_result"
    }
   ],
   "source": [
    "ar4=np.random.rand(99)\n",
    "ar4"
   ]
  },
  {
   "cell_type": "code",
   "execution_count": 44,
   "id": "e2c4c6b7-7efa-4243-adf1-f65f79c71792",
   "metadata": {},
   "outputs": [
    {
     "data": {
      "text/plain": [
       "99"
      ]
     },
     "execution_count": 44,
     "metadata": {},
     "output_type": "execute_result"
    }
   ],
   "source": [
    "ar4.size"
   ]
  },
  {
   "cell_type": "code",
   "execution_count": 49,
   "id": "6e0203ff-30e7-49e0-9ff7-ea13840be419",
   "metadata": {},
   "outputs": [],
   "source": [
    "ar4=ar4.reshape(11,9)"
   ]
  },
  {
   "cell_type": "code",
   "execution_count": 50,
   "id": "341231e1-f0f7-4325-90a0-131ce1630944",
   "metadata": {},
   "outputs": [
    {
     "data": {
      "text/plain": [
       "99"
      ]
     },
     "execution_count": 50,
     "metadata": {},
     "output_type": "execute_result"
    }
   ],
   "source": [
    "ar4.size"
   ]
  },
  {
   "cell_type": "code",
   "execution_count": 51,
   "id": "f5a09519-7d0f-438d-9566-4daaa3faa4a0",
   "metadata": {},
   "outputs": [
    {
     "data": {
      "text/plain": [
       "(11, 9)"
      ]
     },
     "execution_count": 51,
     "metadata": {},
     "output_type": "execute_result"
    }
   ],
   "source": [
    "ar4.shape"
   ]
  },
  {
   "cell_type": "code",
   "execution_count": 53,
   "id": "937a85f3-7133-4822-9ee2-940ee3963a9c",
   "metadata": {},
   "outputs": [],
   "source": [
    "ar4=ar4a"
   ]
  },
  {
   "cell_type": "code",
   "execution_count": 54,
   "id": "13c29b2a-64b1-45d1-aa21-f1d8d44814f5",
   "metadata": {},
   "outputs": [
    {
     "data": {
      "text/plain": [
       "array([[6.04926019e-02, 5.61630547e-01, 4.76975766e-01, 9.15914539e-01,\n",
       "        8.97765325e-01, 2.70826115e-01, 8.49634808e-01, 7.37430364e-01,\n",
       "        3.75781954e-01, 7.75368597e-01, 3.15526283e-01],\n",
       "       [7.46509279e-01, 6.27553097e-01, 5.46476756e-01, 9.63864205e-01,\n",
       "        2.63395491e-01, 6.21738470e-01, 7.18205416e-01, 4.90161422e-01,\n",
       "        3.26102492e-01, 4.77851747e-01, 5.70630656e-01],\n",
       "       [6.37402282e-01, 1.40058275e-01, 6.00040253e-01, 4.28544035e-02,\n",
       "        1.52360571e-01, 8.20949743e-01, 1.21371627e-01, 3.67808665e-01,\n",
       "        1.73424858e-01, 7.03196843e-01, 2.39232335e-01],\n",
       "       [9.47826643e-01, 1.18791815e-01, 1.94672171e-01, 6.89991144e-01,\n",
       "        1.13076362e-01, 3.69880809e-01, 7.49936919e-01, 4.45378734e-01,\n",
       "        8.25675791e-01, 7.59054471e-01, 8.63960133e-01],\n",
       "       [2.84805480e-01, 6.28978854e-01, 8.33819621e-02, 6.49825840e-01,\n",
       "        7.55612267e-01, 2.45015587e-01, 4.70087638e-01, 6.80701947e-01,\n",
       "        1.01708049e-01, 4.86377438e-01, 1.46200065e-03],\n",
       "       [8.03114767e-01, 5.14224117e-01, 7.30518375e-01, 9.37453621e-01,\n",
       "        7.71777772e-01, 6.79636962e-01, 2.80963152e-01, 7.15436619e-01,\n",
       "        6.58017619e-01, 2.46373192e-02, 2.91802636e-01],\n",
       "       [4.03459830e-01, 8.66731631e-01, 5.36178258e-02, 2.03422365e-01,\n",
       "        5.58288112e-02, 4.36650383e-01, 5.86922440e-01, 1.05693087e-01,\n",
       "        6.51982166e-01, 2.05210035e-01, 7.82634633e-01],\n",
       "       [6.64394174e-01, 2.78533441e-01, 7.36458430e-01, 2.92685528e-01,\n",
       "        7.29682680e-01, 7.09943190e-02, 7.44410368e-01, 5.33657811e-01,\n",
       "        6.97535938e-01, 7.78831175e-01, 4.36036688e-01],\n",
       "       [5.75418471e-01, 2.38486241e-01, 8.81244173e-04, 8.88963768e-01,\n",
       "        5.23012815e-01, 8.14112960e-01, 3.66104969e-02, 5.66869366e-01,\n",
       "        5.05388036e-01, 3.82150076e-03, 7.86085935e-01]])"
      ]
     },
     "execution_count": 54,
     "metadata": {},
     "output_type": "execute_result"
    }
   ],
   "source": [
    "ar4"
   ]
  },
  {
   "cell_type": "code",
   "execution_count": 56,
   "id": "c7493a7d-3727-4afc-8a6d-675002b0cebb",
   "metadata": {},
   "outputs": [
    {
     "data": {
      "text/plain": [
       "(9, 11)"
      ]
     },
     "execution_count": 56,
     "metadata": {},
     "output_type": "execute_result"
    }
   ],
   "source": [
    "ar4.shape"
   ]
  },
  {
   "cell_type": "code",
   "execution_count": 57,
   "id": "47f47323-908d-4c84-b03f-d081890c2643",
   "metadata": {},
   "outputs": [
    {
     "data": {
      "text/plain": [
       "array([[ 1,  3, 10],\n",
       "       [ 4,  5, 12],\n",
       "       [ 7,  8, 15]])"
      ]
     },
     "execution_count": 57,
     "metadata": {},
     "output_type": "execute_result"
    }
   ],
   "source": [
    "ar3"
   ]
  },
  {
   "cell_type": "code",
   "execution_count": 58,
   "id": "e510f569-be02-45dc-a73c-453ab1887caf",
   "metadata": {},
   "outputs": [
    {
     "data": {
      "text/plain": [
       "array([[ 1,  4,  7],\n",
       "       [ 3,  5,  8],\n",
       "       [10, 12, 15]])"
      ]
     },
     "execution_count": 58,
     "metadata": {},
     "output_type": "execute_result"
    }
   ],
   "source": [
    "ar3=ar3.T\n",
    "ar3"
   ]
  },
  {
   "cell_type": "code",
   "execution_count": 59,
   "id": "966bdcae-6b28-403a-b54a-53bac56bb3b9",
   "metadata": {},
   "outputs": [
    {
     "data": {
      "text/plain": [
       "array([0, 1, 2, 3, 4, 5, 6, 7, 8, 9])"
      ]
     },
     "execution_count": 59,
     "metadata": {},
     "output_type": "execute_result"
    }
   ],
   "source": [
    "ar"
   ]
  },
  {
   "cell_type": "code",
   "execution_count": 60,
   "id": "9eb89b63-56bf-46e2-8b9b-50c03cbac0cf",
   "metadata": {},
   "outputs": [
    {
     "data": {
      "text/plain": [
       "array([ 0,  1,  2,  3,  4,  5,  6,  7,  8,  9, 10])"
      ]
     },
     "execution_count": 60,
     "metadata": {},
     "output_type": "execute_result"
    }
   ],
   "source": [
    "np.append(ar,10)"
   ]
  },
  {
   "cell_type": "code",
   "execution_count": 61,
   "id": "5defc0e3-257e-4e60-a60c-ef03b3685c79",
   "metadata": {},
   "outputs": [
    {
     "data": {
      "text/plain": [
       "array([0, 1, 2, 3, 4, 5, 6, 7, 8, 9])"
      ]
     },
     "execution_count": 61,
     "metadata": {},
     "output_type": "execute_result"
    }
   ],
   "source": [
    "ar"
   ]
  },
  {
   "cell_type": "code",
   "execution_count": 62,
   "id": "1ffd372d-20d0-4a02-a648-c891341d5818",
   "metadata": {},
   "outputs": [],
   "source": [
    "ar=np.append(ar,10)"
   ]
  },
  {
   "cell_type": "code",
   "execution_count": 63,
   "id": "9b988bc7-974f-459d-bf5c-07266ae855b0",
   "metadata": {},
   "outputs": [
    {
     "data": {
      "text/plain": [
       "array([ 0,  1,  2,  3,  4,  5,  6,  7,  8,  9, 10])"
      ]
     },
     "execution_count": 63,
     "metadata": {},
     "output_type": "execute_result"
    }
   ],
   "source": [
    "ar"
   ]
  },
  {
   "cell_type": "code",
   "execution_count": 64,
   "id": "7e57a199-7fd2-4199-8473-05eddbc214aa",
   "metadata": {},
   "outputs": [],
   "source": [
    "ar=np.delete(ar,6,axis=0)"
   ]
  },
  {
   "cell_type": "code",
   "execution_count": 65,
   "id": "d172ae97-e213-4c1f-8f69-0ad2e77d2b7d",
   "metadata": {},
   "outputs": [
    {
     "data": {
      "text/plain": [
       "array([ 0,  1,  2,  3,  4,  5,  7,  8,  9, 10])"
      ]
     },
     "execution_count": 65,
     "metadata": {},
     "output_type": "execute_result"
    }
   ],
   "source": [
    "ar"
   ]
  },
  {
   "cell_type": "code",
   "execution_count": 66,
   "id": "5f70a260-3711-4eb5-816a-bf361403bbd0",
   "metadata": {},
   "outputs": [
    {
     "data": {
      "text/plain": [
       "array([ 0,  1,  2,  3,  4,  5,  6,  7,  8,  9, 10])"
      ]
     },
     "execution_count": 66,
     "metadata": {},
     "output_type": "execute_result"
    }
   ],
   "source": [
    "ar=np.insert(ar,6,6)\n",
    "ar"
   ]
  },
  {
   "cell_type": "code",
   "execution_count": 67,
   "id": "92bc1e12-f0d2-49eb-bb37-8d44cb54ff43",
   "metadata": {},
   "outputs": [
    {
     "data": {
      "text/plain": [
       "array([[1, 2, 3],\n",
       "       [4, 5, 6],\n",
       "       [7, 8, 9]])"
      ]
     },
     "execution_count": 67,
     "metadata": {},
     "output_type": "execute_result"
    }
   ],
   "source": [
    "ar2"
   ]
  },
  {
   "cell_type": "code",
   "execution_count": 68,
   "id": "a51d5041-ac0d-4c97-b561-c2d4713ccd98",
   "metadata": {},
   "outputs": [
    {
     "data": {
      "text/plain": [
       "array([[ 1,  4,  7],\n",
       "       [ 3,  5,  8],\n",
       "       [10, 12, 15]])"
      ]
     },
     "execution_count": 68,
     "metadata": {},
     "output_type": "execute_result"
    }
   ],
   "source": [
    "ar3"
   ]
  },
  {
   "cell_type": "code",
   "execution_count": 69,
   "id": "c6e71159-b5c9-4bd3-8119-58cea2188146",
   "metadata": {},
   "outputs": [
    {
     "data": {
      "text/plain": [
       "array([[ 1,  2,  3],\n",
       "       [ 4,  5,  6],\n",
       "       [ 7,  8,  9],\n",
       "       [ 1,  4,  7],\n",
       "       [ 3,  5,  8],\n",
       "       [10, 12, 15]])"
      ]
     },
     "execution_count": 69,
     "metadata": {},
     "output_type": "execute_result"
    }
   ],
   "source": [
    "ar4=np.concatenate((ar2,ar3),axis=0)\n",
    "ar4"
   ]
  },
  {
   "cell_type": "code",
   "execution_count": 70,
   "id": "ab424d6e-ce06-452b-9332-69e90f3da6e9",
   "metadata": {},
   "outputs": [
    {
     "data": {
      "text/plain": [
       "array([[ 1,  2,  3,  1,  4,  7],\n",
       "       [ 4,  5,  6,  3,  5,  8],\n",
       "       [ 7,  8,  9, 10, 12, 15]])"
      ]
     },
     "execution_count": 70,
     "metadata": {},
     "output_type": "execute_result"
    }
   ],
   "source": [
    "ar5=np.concatenate((ar2,ar3),axis=1)\n",
    "ar5"
   ]
  },
  {
   "cell_type": "code",
   "execution_count": 71,
   "id": "fb8f1a4b-b30d-465b-b0ae-6ddc39dae551",
   "metadata": {},
   "outputs": [
    {
     "data": {
      "text/plain": [
       "[array([[1, 2, 3],\n",
       "        [4, 5, 6]]),\n",
       " array([[7, 8, 9],\n",
       "        [1, 4, 7]]),\n",
       " array([[ 3,  5,  8],\n",
       "        [10, 12, 15]])]"
      ]
     },
     "execution_count": 71,
     "metadata": {},
     "output_type": "execute_result"
    }
   ],
   "source": [
    "np.split(ar4,3)"
   ]
  },
  {
   "cell_type": "code",
   "execution_count": 72,
   "id": "889e70b0-8843-40e1-a196-053ec331c17c",
   "metadata": {},
   "outputs": [
    {
     "data": {
      "text/plain": [
       "[array([[1, 2, 3],\n",
       "        [4, 5, 6]]),\n",
       " array([[7, 8, 9],\n",
       "        [1, 4, 7]]),\n",
       " array([[ 3,  5,  8],\n",
       "        [10, 12, 15]])]"
      ]
     },
     "execution_count": 72,
     "metadata": {},
     "output_type": "execute_result"
    }
   ],
   "source": [
    "ar6=np.split(ar4,3)\n",
    "ar6"
   ]
  },
  {
   "cell_type": "code",
   "execution_count": 76,
   "id": "7bfd3ada-f9c1-4a25-88f6-5827c27b1a85",
   "metadata": {},
   "outputs": [
    {
     "data": {
      "text/plain": [
       "array([[1, 2, 3],\n",
       "       [4, 5, 6]])"
      ]
     },
     "execution_count": 76,
     "metadata": {},
     "output_type": "execute_result"
    }
   ],
   "source": [
    "ar6[0]"
   ]
  },
  {
   "cell_type": "code",
   "execution_count": 74,
   "id": "58ae0870-4be1-4ae1-9ccf-dc33d16f4405",
   "metadata": {},
   "outputs": [
    {
     "data": {
      "text/plain": [
       "array([[7, 8, 9],\n",
       "       [1, 4, 7]])"
      ]
     },
     "execution_count": 74,
     "metadata": {},
     "output_type": "execute_result"
    }
   ],
   "source": [
    "ar6[1]"
   ]
  },
  {
   "cell_type": "code",
   "execution_count": 75,
   "id": "bc59d17f-a4d6-4f18-8645-194655d8c173",
   "metadata": {},
   "outputs": [
    {
     "data": {
      "text/plain": [
       "array([[ 3,  5,  8],\n",
       "       [10, 12, 15]])"
      ]
     },
     "execution_count": 75,
     "metadata": {},
     "output_type": "execute_result"
    }
   ],
   "source": [
    "ar6[2]"
   ]
  },
  {
   "cell_type": "code",
   "execution_count": 81,
   "id": "a9a9f3e2-c172-480b-b213-d8337ed9a8e0",
   "metadata": {},
   "outputs": [
    {
     "data": {
      "text/plain": [
       "1"
      ]
     },
     "execution_count": 81,
     "metadata": {},
     "output_type": "execute_result"
    }
   ],
   "source": [
    "ar6[0][0][0]"
   ]
  },
  {
   "cell_type": "markdown",
   "id": "5b162b49-b97b-4bfa-8084-c04bafbe870d",
   "metadata": {},
   "source": [
    "# Scalar Expressions\n",
    "\n",
    "add\n",
    "\n",
    "subtract\n",
    "\n",
    "multiply\n",
    "\n",
    "divide\n",
    "\n",
    "power"
   ]
  },
  {
   "cell_type": "code",
   "execution_count": 82,
   "id": "6d906d54-5eed-4120-a600-d9a99f962b38",
   "metadata": {},
   "outputs": [
    {
     "data": {
      "text/plain": [
       "array([[ 1,  2,  3,  1,  4,  7],\n",
       "       [ 4,  5,  6,  3,  5,  8],\n",
       "       [ 7,  8,  9, 10, 12, 15]])"
      ]
     },
     "execution_count": 82,
     "metadata": {},
     "output_type": "execute_result"
    }
   ],
   "source": [
    "ar5"
   ]
  },
  {
   "cell_type": "code",
   "execution_count": 83,
   "id": "f7e8feda-a37c-4919-8b4e-efe88724d0e9",
   "metadata": {},
   "outputs": [
    {
     "data": {
      "text/plain": [
       "array([[ 2,  3,  4,  2,  5,  8],\n",
       "       [ 5,  6,  7,  4,  6,  9],\n",
       "       [ 8,  9, 10, 11, 13, 16]])"
      ]
     },
     "execution_count": 83,
     "metadata": {},
     "output_type": "execute_result"
    }
   ],
   "source": [
    "np.add(ar5,1)"
   ]
  },
  {
   "cell_type": "markdown",
   "id": "53300da8-da0d-40c5-bbbf-92fdf0e05d77",
   "metadata": {},
   "source": [
    "# Vector Operations"
   ]
  },
  {
   "cell_type": "code",
   "execution_count": 84,
   "id": "91280cdc-23d7-41cf-a6b5-d0d376f92ec9",
   "metadata": {},
   "outputs": [
    {
     "data": {
      "text/plain": [
       "[array([[1, 2, 3],\n",
       "        [4, 5, 6]]),\n",
       " array([[7, 8, 9],\n",
       "        [1, 4, 7]]),\n",
       " array([[ 3,  5,  8],\n",
       "        [10, 12, 15]])]"
      ]
     },
     "execution_count": 84,
     "metadata": {},
     "output_type": "execute_result"
    }
   ],
   "source": [
    "ar6"
   ]
  },
  {
   "cell_type": "code",
   "execution_count": 85,
   "id": "1d1c3a96-d130-47b5-b625-0c31aa6b303f",
   "metadata": {},
   "outputs": [
    {
     "data": {
      "text/plain": [
       "array([[ 8, 10, 12],\n",
       "       [ 5,  9, 13]])"
      ]
     },
     "execution_count": 85,
     "metadata": {},
     "output_type": "execute_result"
    }
   ],
   "source": [
    "ar7 = np.add(ar6[0],ar6[1])\n",
    "ar7"
   ]
  },
  {
   "cell_type": "code",
   "execution_count": 86,
   "id": "642b9213-b0c1-413d-bada-cc97798a66d9",
   "metadata": {},
   "outputs": [
    {
     "data": {
      "text/plain": [
       "array([[ 7, 16, 27],\n",
       "       [ 4, 20, 42]])"
      ]
     },
     "execution_count": 86,
     "metadata": {},
     "output_type": "execute_result"
    }
   ],
   "source": [
    "ar8 = np.multiply(ar6[0],ar6[1])\n",
    "ar8"
   ]
  },
  {
   "cell_type": "code",
   "execution_count": 87,
   "id": "94f9af1b-db12-47fa-a696-6581925a38e9",
   "metadata": {},
   "outputs": [
    {
     "data": {
      "text/plain": [
       "array([[0.14285714, 0.25      , 0.33333333],\n",
       "       [4.        , 1.25      , 0.85714286]])"
      ]
     },
     "execution_count": 87,
     "metadata": {},
     "output_type": "execute_result"
    }
   ],
   "source": [
    "ar9 = np.divide(ar6[0],ar6[1])\n",
    "ar9"
   ]
  },
  {
   "cell_type": "code",
   "execution_count": 88,
   "id": "5de49644-221e-4b8d-9038-6729e1459b3c",
   "metadata": {},
   "outputs": [
    {
     "data": {
      "text/plain": [
       "array([[1., 1., 1.],\n",
       "       [4., 2., 1.]])"
      ]
     },
     "execution_count": 88,
     "metadata": {},
     "output_type": "execute_result"
    }
   ],
   "source": [
    "np.ceil(ar9)"
   ]
  },
  {
   "cell_type": "code",
   "execution_count": 89,
   "id": "6246f4ef-7175-4ffc-b1c5-3f89ed7f039a",
   "metadata": {},
   "outputs": [
    {
     "data": {
      "text/plain": [
       "array([[0., 0., 0.],\n",
       "       [4., 1., 0.]])"
      ]
     },
     "execution_count": 89,
     "metadata": {},
     "output_type": "execute_result"
    }
   ],
   "source": [
    "np.floor(ar9)"
   ]
  },
  {
   "cell_type": "code",
   "execution_count": 90,
   "id": "e0bb4eae-6811-4412-adc6-2dbc79e452b0",
   "metadata": {},
   "outputs": [
    {
     "data": {
      "text/plain": [
       "array([[0., 0., 0.],\n",
       "       [4., 1., 1.]])"
      ]
     },
     "execution_count": 90,
     "metadata": {},
     "output_type": "execute_result"
    }
   ],
   "source": [
    "np.round(ar9)"
   ]
  },
  {
   "cell_type": "markdown",
   "id": "f2e11af9-c68d-4345-8841-a48ea93b7574",
   "metadata": {},
   "source": [
    "# Statistics"
   ]
  },
  {
   "cell_type": "code",
   "execution_count": 91,
   "id": "5861c264-2ebd-4732-a92f-f331dc9aeaff",
   "metadata": {},
   "outputs": [
    {
     "data": {
      "text/plain": [
       "6.111111111111111"
      ]
     },
     "execution_count": 91,
     "metadata": {},
     "output_type": "execute_result"
    }
   ],
   "source": [
    "np.mean(ar5)"
   ]
  },
  {
   "cell_type": "code",
   "execution_count": 92,
   "id": "e600d93d-abcb-4751-be2d-4885fe930e90",
   "metadata": {},
   "outputs": [
    {
     "data": {
      "text/plain": [
       "array([ 4.        ,  5.        ,  6.        ,  4.66666667,  7.        ,\n",
       "       10.        ])"
      ]
     },
     "execution_count": 92,
     "metadata": {},
     "output_type": "execute_result"
    }
   ],
   "source": [
    "np.mean(ar5,axis=0)"
   ]
  },
  {
   "cell_type": "code",
   "execution_count": 93,
   "id": "970cedce-5a19-4697-a018-2d9521f22246",
   "metadata": {},
   "outputs": [
    {
     "data": {
      "text/plain": [
       "array([ 3.        ,  5.16666667, 10.16666667])"
      ]
     },
     "execution_count": 93,
     "metadata": {},
     "output_type": "execute_result"
    }
   ],
   "source": [
    "np.mean(ar5,axis=1)"
   ]
  },
  {
   "cell_type": "code",
   "execution_count": 94,
   "id": "59a47a5e-aa8a-4713-9e1f-6f994b9acd79",
   "metadata": {},
   "outputs": [
    {
     "data": {
      "text/plain": [
       "5.5"
      ]
     },
     "execution_count": 94,
     "metadata": {},
     "output_type": "execute_result"
    }
   ],
   "source": [
    "np.median(ar5)"
   ]
  },
  {
   "cell_type": "code",
   "execution_count": 95,
   "id": "3c2595d9-ffd2-49d1-8505-a5f43d1d9912",
   "metadata": {},
   "outputs": [
    {
     "data": {
      "text/plain": [
       "array([2.5, 5. , 9.5])"
      ]
     },
     "execution_count": 95,
     "metadata": {},
     "output_type": "execute_result"
    }
   ],
   "source": [
    "np.median(ar5,axis=1)"
   ]
  },
  {
   "cell_type": "code",
   "execution_count": 96,
   "id": "7f466074-339f-4f4b-b17f-3f0daac50cf8",
   "metadata": {},
   "outputs": [
    {
     "data": {
      "text/plain": [
       "1"
      ]
     },
     "execution_count": 96,
     "metadata": {},
     "output_type": "execute_result"
    }
   ],
   "source": [
    "np.min(ar5)"
   ]
  },
  {
   "cell_type": "code",
   "execution_count": 97,
   "id": "be825323-40fc-476f-93fe-47675194c9ba",
   "metadata": {},
   "outputs": [
    {
     "data": {
      "text/plain": [
       "array([1, 2, 3, 1, 4, 7])"
      ]
     },
     "execution_count": 97,
     "metadata": {},
     "output_type": "execute_result"
    }
   ],
   "source": [
    "np.min(ar5,axis=0)"
   ]
  },
  {
   "cell_type": "code",
   "execution_count": 98,
   "id": "e973f429-166d-4e0b-b78d-01f0c7b085cc",
   "metadata": {},
   "outputs": [
    {
     "data": {
      "text/plain": [
       "array([ 7,  8,  9, 10, 12, 15])"
      ]
     },
     "execution_count": 98,
     "metadata": {},
     "output_type": "execute_result"
    }
   ],
   "source": [
    "np.max(ar5,axis=0)"
   ]
  },
  {
   "cell_type": "code",
   "execution_count": 103,
   "id": "2a389c64-7b41-4e70-b7b8-69fa450369da",
   "metadata": {},
   "outputs": [],
   "source": [
    "ar10=np.array([2,5,3,8,0,4,1,6,9])"
   ]
  },
  {
   "cell_type": "code",
   "execution_count": 104,
   "id": "0202019a-5503-4fd6-a13d-ec5c818ef8b1",
   "metadata": {},
   "outputs": [
    {
     "data": {
      "text/plain": [
       "array([[ 1,  2,  3,  1,  4,  7],\n",
       "       [ 4,  5,  6,  3,  5,  8],\n",
       "       [ 7,  8,  9, 10, 12, 15]])"
      ]
     },
     "execution_count": 104,
     "metadata": {},
     "output_type": "execute_result"
    }
   ],
   "source": [
    "ar5"
   ]
  },
  {
   "cell_type": "code",
   "execution_count": 105,
   "id": "c9d9e70d-c2f8-4cbe-a676-516d9c5e1737",
   "metadata": {},
   "outputs": [
    {
     "data": {
      "text/plain": [
       "array([2, 5, 3, 8, 0, 4, 1, 6, 9])"
      ]
     },
     "execution_count": 105,
     "metadata": {},
     "output_type": "execute_result"
    }
   ],
   "source": [
    "ar10"
   ]
  },
  {
   "cell_type": "code",
   "execution_count": 106,
   "id": "7038a9ac-6cf9-4607-957d-4e7c370028d0",
   "metadata": {},
   "outputs": [
    {
     "data": {
      "text/plain": [
       "8"
      ]
     },
     "execution_count": 106,
     "metadata": {},
     "output_type": "execute_result"
    }
   ],
   "source": [
    "np.argmax(ar10)"
   ]
  },
  {
   "cell_type": "code",
   "execution_count": 107,
   "id": "d2364491-4359-445c-a118-d8cf3ef19b89",
   "metadata": {},
   "outputs": [
    {
     "data": {
      "text/plain": [
       "4"
      ]
     },
     "execution_count": 107,
     "metadata": {},
     "output_type": "execute_result"
    }
   ],
   "source": [
    "np.argmin(ar10)"
   ]
  },
  {
   "cell_type": "code",
   "execution_count": 108,
   "id": "2c81e344-502c-424f-a9c8-0683a32f87ae",
   "metadata": {},
   "outputs": [
    {
     "data": {
      "text/plain": [
       "array([4, 6, 0, 2, 5, 1, 7, 3, 8], dtype=int64)"
      ]
     },
     "execution_count": 108,
     "metadata": {},
     "output_type": "execute_result"
    }
   ],
   "source": [
    "np.argsort(ar10)"
   ]
  },
  {
   "cell_type": "code",
   "execution_count": 109,
   "id": "95712c1d-9297-44c8-b246-0ddc0df80957",
   "metadata": {},
   "outputs": [
    {
     "data": {
      "text/plain": [
       "array([2, 5, 3, 8, 0, 4, 1, 6, 9])"
      ]
     },
     "execution_count": 109,
     "metadata": {},
     "output_type": "execute_result"
    }
   ],
   "source": [
    "ar10"
   ]
  },
  {
   "cell_type": "code",
   "execution_count": 110,
   "id": "d7fd6873-137f-4431-8a14-56f15aa59187",
   "metadata": {},
   "outputs": [
    {
     "data": {
      "text/plain": [
       "array([ 0.90929743, -0.95892427,  0.14112001,  0.98935825,  0.        ,\n",
       "       -0.7568025 ,  0.84147098, -0.2794155 ,  0.41211849])"
      ]
     },
     "execution_count": 110,
     "metadata": {},
     "output_type": "execute_result"
    }
   ],
   "source": [
    "np.sin(ar10)"
   ]
  },
  {
   "cell_type": "code",
   "execution_count": 111,
   "id": "9b6a94e9-2757-4317-950d-31bfe76f333d",
   "metadata": {},
   "outputs": [
    {
     "name": "stderr",
     "output_type": "stream",
     "text": [
      "C:\\Users\\black\\AppData\\Local\\Temp\\ipykernel_8124\\168028880.py:1: RuntimeWarning: divide by zero encountered in log\n",
      "  np.log(ar10)\n"
     ]
    },
    {
     "data": {
      "text/plain": [
       "array([0.69314718, 1.60943791, 1.09861229, 2.07944154,       -inf,\n",
       "       1.38629436, 0.        , 1.79175947, 2.19722458])"
      ]
     },
     "execution_count": 111,
     "metadata": {},
     "output_type": "execute_result"
    }
   ],
   "source": [
    "np.log(ar10)"
   ]
  },
  {
   "cell_type": "code",
   "execution_count": null,
   "id": "d71480b9-9c00-4f87-b64f-aca0d91ef118",
   "metadata": {},
   "outputs": [],
   "source": []
  }
 ],
 "metadata": {
  "kernelspec": {
   "display_name": "Python 3 (ipykernel)",
   "language": "python",
   "name": "python3"
  },
  "language_info": {
   "codemirror_mode": {
    "name": "ipython",
    "version": 3
   },
   "file_extension": ".py",
   "mimetype": "text/x-python",
   "name": "python",
   "nbconvert_exporter": "python",
   "pygments_lexer": "ipython3",
   "version": "3.12.3"
  }
 },
 "nbformat": 4,
 "nbformat_minor": 5
}
